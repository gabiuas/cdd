{
 "cells": [
  {
   "cell_type": "markdown",
   "metadata": {},
   "source": [
    "___\n",
    "# Ciência dos Dados - PROJETO 1"
   ]
  },
  {
   "cell_type": "markdown",
   "metadata": {},
   "source": [
    "Gabriel Scodiero"
   ]
  },
  {
   "cell_type": "markdown",
   "metadata": {},
   "source": [
    "## TÍTULO DO SEU PROJETO"
   ]
  },
  {
   "cell_type": "markdown",
   "metadata": {},
   "source": [
    "___\n",
    "## Introdução\n",
    "\n",
    "Descreva aqui o que pretende analisar!\n",
    "\n",
    "Capriche no português!! \n",
    "Se quiser pode utilizar pesquisas semelhantes publicadas em sites confiáveis!!\n"
   ]
  },
  {
   "cell_type": "markdown",
   "metadata": {},
   "source": [
    "___\n",
    "## Análise e Resultados"
   ]
  },
  {
   "cell_type": "code",
   "execution_count": 2,
   "metadata": {
    "collapsed": true
   },
   "outputs": [],
   "source": [
    "%matplotlib inline\n",
    "import pandas as pd\n",
    "import matplotlib.pyplot as plt\n",
    "import numpy as np\n",
    "import os\n",
    "from numpy import arange"
   ]
  },
  {
   "cell_type": "code",
   "execution_count": 3,
   "metadata": {},
   "outputs": [
    {
     "name": "stdout",
     "output_type": "stream",
     "text": [
      "Esperamos trabalhar no diretório\n",
      "/Users/gabiuas\n"
     ]
    }
   ],
   "source": [
    "print('Esperamos trabalhar no diretório')\n",
    "print(os.getcwd())"
   ]
  },
  {
   "cell_type": "code",
   "execution_count": 4,
   "metadata": {
    "collapsed": true
   },
   "outputs": [],
   "source": [
    "#Se usar o arquivo descompactado\n",
    "#pd.read_csv('DOM2015.csv',sep=',')\n",
    "\n",
    "#Se usar o arquivo compactado como está no dropbox púbico\n",
    "#pd.read_csv('DOM2015csv.zip', compression='zip', header=0, sep=',', quotechar='\"')"
   ]
  },
  {
   "cell_type": "code",
   "execution_count": 5,
   "metadata": {
    "collapsed": true
   },
   "outputs": [],
   "source": [
    "dados13 = pd.read_csv('DOM2013csv.zip', compression='zip', header=0, sep=',', quotechar='\"')\n",
    "dados14 = pd.read_csv('DOM2014csv.zip', compression='zip', header=0, sep=',', quotechar='\"')\n",
    "dados15 = pd.read_csv('DOM2015csv.zip', compression='zip', header=0, sep=',', quotechar='\"')"
   ]
  },
  {
   "cell_type": "code",
   "execution_count": null,
   "metadata": {
    "collapsed": true
   },
   "outputs": [],
   "source": []
  },
  {
   "cell_type": "code",
   "execution_count": 82,
   "metadata": {},
   "outputs": [
    {
     "data": {
      "text/html": [
       "<div>\n",
       "<table border=\"1\" class=\"dataframe\">\n",
       "  <thead>\n",
       "    <tr style=\"text-align: right;\">\n",
       "      <th></th>\n",
       "      <th>UF</th>\n",
       "      <th>internet_dom</th>\n",
       "      <th>micro</th>\n",
       "      <th>celular</th>\n",
       "      <th>tablet</th>\n",
       "      <th>tv</th>\n",
       "      <th>outro</th>\n",
       "      <th>_3G_4G</th>\n",
       "      <th>discada</th>\n",
       "      <th>banda_larga</th>\n",
       "      <th>mes_domici</th>\n",
       "      <th>dom_per_capt</th>\n",
       "    </tr>\n",
       "  </thead>\n",
       "  <tbody>\n",
       "    <tr>\n",
       "      <th>66368</th>\n",
       "      <td>31</td>\n",
       "      <td>Sim</td>\n",
       "      <td>Sim</td>\n",
       "      <td>Sim</td>\n",
       "      <td>Não</td>\n",
       "      <td>Não</td>\n",
       "      <td>Não</td>\n",
       "      <td>Sim</td>\n",
       "      <td>Não</td>\n",
       "      <td>Sim</td>\n",
       "      <td>30.0</td>\n",
       "      <td>Zero - 1/4</td>\n",
       "    </tr>\n",
       "    <tr>\n",
       "      <th>80927</th>\n",
       "      <td>33</td>\n",
       "      <td>Sim</td>\n",
       "      <td>Sim</td>\n",
       "      <td>Não</td>\n",
       "      <td>Não</td>\n",
       "      <td>Não</td>\n",
       "      <td>Não</td>\n",
       "      <td>Não</td>\n",
       "      <td>Sim</td>\n",
       "      <td>Não</td>\n",
       "      <td>33.0</td>\n",
       "      <td>Zero - 1/4</td>\n",
       "    </tr>\n",
       "    <tr>\n",
       "      <th>77159</th>\n",
       "      <td>31</td>\n",
       "      <td>Sim</td>\n",
       "      <td>Sim</td>\n",
       "      <td>Sim</td>\n",
       "      <td>Não</td>\n",
       "      <td>Não</td>\n",
       "      <td>Não</td>\n",
       "      <td>Não</td>\n",
       "      <td>Não</td>\n",
       "      <td>Sim</td>\n",
       "      <td>34.0</td>\n",
       "      <td>Zero - 1/4</td>\n",
       "    </tr>\n",
       "    <tr>\n",
       "      <th>75948</th>\n",
       "      <td>31</td>\n",
       "      <td>Sim</td>\n",
       "      <td>Sim</td>\n",
       "      <td>Não</td>\n",
       "      <td>Não</td>\n",
       "      <td>Não</td>\n",
       "      <td>Não</td>\n",
       "      <td>Não</td>\n",
       "      <td>Não</td>\n",
       "      <td>Sim</td>\n",
       "      <td>38.0</td>\n",
       "      <td>Zero - 1/4</td>\n",
       "    </tr>\n",
       "    <tr>\n",
       "      <th>104737</th>\n",
       "      <td>35</td>\n",
       "      <td>Sim</td>\n",
       "      <td>Sim</td>\n",
       "      <td>Não</td>\n",
       "      <td>Não</td>\n",
       "      <td>Não</td>\n",
       "      <td>Não</td>\n",
       "      <td>Não</td>\n",
       "      <td>Não</td>\n",
       "      <td>Sim</td>\n",
       "      <td>38.0</td>\n",
       "      <td>Zero - 1/4</td>\n",
       "    </tr>\n",
       "    <tr>\n",
       "      <th>99658</th>\n",
       "      <td>35</td>\n",
       "      <td>Sim</td>\n",
       "      <td>Sim</td>\n",
       "      <td>Não</td>\n",
       "      <td>Não</td>\n",
       "      <td>Não</td>\n",
       "      <td>Não</td>\n",
       "      <td>Sim</td>\n",
       "      <td>Não</td>\n",
       "      <td>Não</td>\n",
       "      <td>66.0</td>\n",
       "      <td>Zero - 1/4</td>\n",
       "    </tr>\n",
       "    <tr>\n",
       "      <th>106782</th>\n",
       "      <td>35</td>\n",
       "      <td>Sim</td>\n",
       "      <td>Sim</td>\n",
       "      <td>Sim</td>\n",
       "      <td>Não</td>\n",
       "      <td>Não</td>\n",
       "      <td>Não</td>\n",
       "      <td>Não</td>\n",
       "      <td>Não</td>\n",
       "      <td>Sim</td>\n",
       "      <td>70.0</td>\n",
       "      <td>Zero - 1/4</td>\n",
       "    </tr>\n",
       "    <tr>\n",
       "      <th>84359</th>\n",
       "      <td>33</td>\n",
       "      <td>Sim</td>\n",
       "      <td>Não</td>\n",
       "      <td>Sim</td>\n",
       "      <td>Não</td>\n",
       "      <td>Não</td>\n",
       "      <td>Não</td>\n",
       "      <td>Sim</td>\n",
       "      <td>Não</td>\n",
       "      <td>Não</td>\n",
       "      <td>70.0</td>\n",
       "      <td>Zero - 1/4</td>\n",
       "    </tr>\n",
       "    <tr>\n",
       "      <th>84716</th>\n",
       "      <td>33</td>\n",
       "      <td>Sim</td>\n",
       "      <td>Sim</td>\n",
       "      <td>Não</td>\n",
       "      <td>Não</td>\n",
       "      <td>Não</td>\n",
       "      <td>Não</td>\n",
       "      <td>Não</td>\n",
       "      <td>Sim</td>\n",
       "      <td>Não</td>\n",
       "      <td>70.0</td>\n",
       "      <td>Zero - 1/4</td>\n",
       "    </tr>\n",
       "    <tr>\n",
       "      <th>91458</th>\n",
       "      <td>33</td>\n",
       "      <td>Sim</td>\n",
       "      <td>Não</td>\n",
       "      <td>Sim</td>\n",
       "      <td>Não</td>\n",
       "      <td>Não</td>\n",
       "      <td>Não</td>\n",
       "      <td>Sim</td>\n",
       "      <td>Não</td>\n",
       "      <td>Não</td>\n",
       "      <td>72.0</td>\n",
       "      <td>Zero - 1/4</td>\n",
       "    </tr>\n",
       "  </tbody>\n",
       "</table>\n",
       "</div>"
      ],
      "text/plain": [
       "        UF internet_dom micro celular tablet   tv outro _3G_4G discada  \\\n",
       "66368   31          Sim   Sim     Sim    Não  Não   Não    Sim     Não   \n",
       "80927   33          Sim   Sim     Não    Não  Não   Não    Não     Sim   \n",
       "77159   31          Sim   Sim     Sim    Não  Não   Não    Não     Não   \n",
       "75948   31          Sim   Sim     Não    Não  Não   Não    Não     Não   \n",
       "104737  35          Sim   Sim     Não    Não  Não   Não    Não     Não   \n",
       "99658   35          Sim   Sim     Não    Não  Não   Não    Sim     Não   \n",
       "106782  35          Sim   Sim     Sim    Não  Não   Não    Não     Não   \n",
       "84359   33          Sim   Não     Sim    Não  Não   Não    Sim     Não   \n",
       "84716   33          Sim   Sim     Não    Não  Não   Não    Não     Sim   \n",
       "91458   33          Sim   Não     Sim    Não  Não   Não    Sim     Não   \n",
       "\n",
       "       banda_larga  mes_domici dom_per_capt  \n",
       "66368          Sim        30.0   Zero - 1/4  \n",
       "80927          Não        33.0   Zero - 1/4  \n",
       "77159          Sim        34.0   Zero - 1/4  \n",
       "75948          Sim        38.0   Zero - 1/4  \n",
       "104737         Sim        38.0   Zero - 1/4  \n",
       "99658          Não        66.0   Zero - 1/4  \n",
       "106782         Sim        70.0   Zero - 1/4  \n",
       "84359          Não        70.0   Zero - 1/4  \n",
       "84716          Não        70.0   Zero - 1/4  \n",
       "91458          Não        72.0   Zero - 1/4  "
      ]
     },
     "execution_count": 82,
     "metadata": {},
     "output_type": "execute_result"
    }
   ],
   "source": [
    "df13= pd.DataFrame({\"UF\":dados13.UF})\n",
    "\n",
    "\n",
    "#COLUNAS\n",
    "df13['internet_dom']=dados13.V02322\n",
    "df13['micro']=dados13.V02323\n",
    "df13['celular']=dados13.V02324\n",
    "df13['tablet']=dados13.V02325\n",
    "df13['tv']=dados13.V02326\n",
    "df13['outro']=dados13.V02327\n",
    "df13['_3G_4G']=dados13.V02424\n",
    "df13['discada']=dados13.V02425\n",
    "df13['banda_larga']=dados13.V02426\n",
    "df13['mes_domici']=dados13.V4614\n",
    "df13['dom_per_capt']=dados13.V4622\n",
    "\n",
    "\n",
    "#RESPOSTAS\n",
    "df13.internet_dom = df13.internet_dom.astype('category')\n",
    "df13.internet_dom.cat.categories = ('Sim','Não')\n",
    "\n",
    "df13.micro = df13.micro.astype('category')\n",
    "df13.micro.cat.categories = ('Sim','Não')\n",
    "\n",
    "df13.celular = df13.celular.astype('category')\n",
    "df13.celular.cat.categories = ('Sim','Não')\n",
    "\n",
    "df13.tablet = df13.tablet.astype('category')\n",
    "df13.tablet.cat.categories = ('Sim','Não')\n",
    "\n",
    "df13.tv = df13.tv.astype('category')\n",
    "df13.tv.cat.categories = ('Sim','Não')\n",
    "\n",
    "df13.outro = df13.outro.astype('category')\n",
    "df13.outro.cat.categories = ('Sim','Não')\n",
    "\n",
    "df13._3G_4G = df13._3G_4G.astype('category')\n",
    "df13._3G_4G.cat.categories = ('Sim','Não')\n",
    "\n",
    "df13.discada = df13.discada.astype('category')\n",
    "df13.discada.cat.categories = ('Sim','Não')\n",
    "\n",
    "df13.banda_larga = df13.banda_larga.astype('category')\n",
    "df13.banda_larga.cat.categories = ('Sim','Não')\n",
    "\n",
    "df13.dom_per_capt = df13.dom_per_capt.astype('category')\n",
    "df13.dom_per_capt.cat.categories = ('Zero','Zero - 1/4','1/4 - 1/2','1/2 - 1','1 - 2','2 - 3','3 - 5','5+','SD')\n",
    "\n",
    "\n",
    "df13[((df13.UF==31)|(df13.UF==32)|(df13.UF==33)|(df13.UF==35))&(df13.mes_domici>0.1)&(df13.mes_domici!=999999999999)].sort_values(by=\"mes_domici\").dropna().head(10)\n",
    "\n",
    "\n",
    "\n"
   ]
  },
  {
   "cell_type": "code",
   "execution_count": 73,
   "metadata": {},
   "outputs": [
    {
     "name": "stdout",
     "output_type": "stream",
     "text": [
      "Frequências relativas Internet:\n",
      "Sim    56.2\n",
      "Não    43.8\n",
      "Name: internet_dom, dtype: float64 \n",
      "\n",
      "Frequências relativas dinheiro:\n",
      "Zero           0.0\n",
      "Zero - 1/4     2.8\n",
      "1/4 - 1/2     10.9\n",
      "1/2 - 1       28.4\n",
      "1 - 2         32.4\n",
      "2 - 3         11.4\n",
      "3 - 5          7.3\n",
      "5+             6.9\n",
      "SD             0.0\n",
      "Name: dom_per_capt, dtype: float64 \n",
      "\n"
     ]
    }
   ],
   "source": [
    "inter = df13[((df13.UF==31)|(df13.UF==32)|(df13.UF==33)|(df13.UF==35))&(df13.mes_domici>0.1)&(df13.mes_domici!=999999999999)].internet_dom\n",
    "domsal = df13[((df13.UF==31)|(df13.UF==32)|(df13.UF==33)|(df13.UF==35))&(df13.mes_domici>0.1)&(df13.mes_domici!=999999999999)].dom_per_capt\n",
    "\n",
    "\n",
    "\n",
    "print('Frequências relativas Internet:')\n",
    "ut1 = (inter.value_counts(normalize=True)*100).round(decimals=1).reindex(['Sim', 'Não'])\n",
    "print(ut1,'\\n')\n",
    "\n",
    "print('Frequências relativas dinheiro:')\n",
    "ut2 = (domsal.value_counts(normalize=True)*100).round(decimals=1).reindex(['Zero','Zero - 1/4','1/4 - 1/2','1/2 - 1','1 - 2','2 - 3','3 - 5','5+','SD'])\n",
    "print(ut2,'\\n')\n"
   ]
  },
  {
   "cell_type": "code",
   "execution_count": 139,
   "metadata": {},
   "outputs": [
    {
     "data": {
      "text/plain": [
       "<matplotlib.text.Text at 0x129a8d4e0>"
      ]
     },
     "execution_count": 139,
     "metadata": {},
     "output_type": "execute_result"
    },
    {
     "data": {
      "image/png": "[encoded data removed]",
      "text/plain": [
       "<matplotlib.figure.Figure at 0x1299d6ef0>"
      ]
     },
     "metadata": {},
     "output_type": "display_data"
    }
   ],
   "source": [
    "plot = ut1.plot(kind='bar',title='INTERNET',figsize=(6, 6),color=('g','r'))\n",
    "plt.ylabel('Pessoas(em%)')\n",
    "plt.xlabel('Internet no domicílio')"
   ]
  },
  {
   "cell_type": "code",
   "execution_count": 140,
   "metadata": {},
   "outputs": [
    {
     "data": {
      "text/plain": [
       "<matplotlib.text.Text at 0x128692be0>"
      ]
     },
     "execution_count": 140,
     "metadata": {},
     "output_type": "execute_result"
    },
    {
     "data": {
      "image/png": "[encoded data removed]",
      "text/plain": [
       "<matplotlib.figure.Figure at 0x12994f6d8>"
      ]
     },
     "metadata": {},
     "output_type": "display_data"
    }
   ],
   "source": [
    "plot = ut2.plot(kind='bar',title='SALÁRIO',figsize=(6, 6),color=('b'))\n",
    "plt.ylabel('Porcentagem Pessoas (em%)')\n",
    "plt.xlabel('Parcela Salário Mínimo')"
   ]
  },
  {
   "cell_type": "code",
   "execution_count": 76,
   "metadata": {},
   "outputs": [
    {
     "name": "stdout",
     "output_type": "stream",
     "text": [
      "Tabela Cruzada por total GERAL (em %):\n"
     ]
    },
    {
     "data": {
      "text/html": [
       "<div>\n",
       "<table border=\"1\" class=\"dataframe\">\n",
       "  <thead>\n",
       "    <tr style=\"text-align: right;\">\n",
       "      <th>Internet</th>\n",
       "      <th>Sim</th>\n",
       "      <th>Não</th>\n",
       "      <th>All</th>\n",
       "    </tr>\n",
       "    <tr>\n",
       "      <th>Salário</th>\n",
       "      <th></th>\n",
       "      <th></th>\n",
       "      <th></th>\n",
       "    </tr>\n",
       "  </thead>\n",
       "  <tbody>\n",
       "    <tr>\n",
       "      <th>Zero</th>\n",
       "      <td>0.0</td>\n",
       "      <td>0.0</td>\n",
       "      <td>0.0</td>\n",
       "    </tr>\n",
       "    <tr>\n",
       "      <th>Zero - 1/4</th>\n",
       "      <td>0.7</td>\n",
       "      <td>2.1</td>\n",
       "      <td>2.8</td>\n",
       "    </tr>\n",
       "    <tr>\n",
       "      <th>1/4 - 1/2</th>\n",
       "      <td>3.9</td>\n",
       "      <td>7.0</td>\n",
       "      <td>10.9</td>\n",
       "    </tr>\n",
       "    <tr>\n",
       "      <th>1/2 - 1</th>\n",
       "      <td>13.0</td>\n",
       "      <td>15.4</td>\n",
       "      <td>28.4</td>\n",
       "    </tr>\n",
       "    <tr>\n",
       "      <th>1 - 2</th>\n",
       "      <td>18.8</td>\n",
       "      <td>13.6</td>\n",
       "      <td>32.3</td>\n",
       "    </tr>\n",
       "    <tr>\n",
       "      <th>2 - 3</th>\n",
       "      <td>7.9</td>\n",
       "      <td>3.5</td>\n",
       "      <td>11.4</td>\n",
       "    </tr>\n",
       "    <tr>\n",
       "      <th>3 - 5</th>\n",
       "      <td>6.0</td>\n",
       "      <td>1.4</td>\n",
       "      <td>7.4</td>\n",
       "    </tr>\n",
       "    <tr>\n",
       "      <th>5+</th>\n",
       "      <td>6.1</td>\n",
       "      <td>0.9</td>\n",
       "      <td>6.9</td>\n",
       "    </tr>\n",
       "    <tr>\n",
       "      <th>SD</th>\n",
       "      <td>0.0</td>\n",
       "      <td>0.0</td>\n",
       "      <td>0.0</td>\n",
       "    </tr>\n",
       "    <tr>\n",
       "      <th>All</th>\n",
       "      <td>56.2</td>\n",
       "      <td>43.8</td>\n",
       "      <td>100.0</td>\n",
       "    </tr>\n",
       "  </tbody>\n",
       "</table>\n",
       "</div>"
      ],
      "text/plain": [
       "Internet     Sim   Não    All\n",
       "Salário                      \n",
       "Zero         0.0   0.0    0.0\n",
       "Zero - 1/4   0.7   2.1    2.8\n",
       "1/4 - 1/2    3.9   7.0   10.9\n",
       "1/2 - 1     13.0  15.4   28.4\n",
       "1 - 2       18.8  13.6   32.3\n",
       "2 - 3        7.9   3.5   11.4\n",
       "3 - 5        6.0   1.4    7.4\n",
       "5+           6.1   0.9    6.9\n",
       "SD           0.0   0.0    0.0\n",
       "All         56.2  43.8  100.0"
      ]
     },
     "execution_count": 76,
     "metadata": {},
     "output_type": "execute_result"
    }
   ],
   "source": [
    "inter = df13[((df13.UF==31)|(df13.UF==32)|(df13.UF==33)|(df13.UF==35))&(df13.mes_domici>0.1)&(df13.mes_domici!=999999999999)].internet_dom\n",
    "sal = df13[((df13.UF==31)|(df13.UF==32)|(df13.UF==33)|(df13.UF==35))&(df13.mes_domici>0.1)&(df13.mes_domici!=999999999999)].dom_per_capt\n",
    "\n",
    "\n",
    "print('Tabela Cruzada por total GERAL (em %):')\n",
    "ct1=(pd.crosstab(sal,inter,margins=True,rownames=['Salário'], colnames=[\"Internet\"], normalize='all')*100).round(decimals=1)\n",
    "ct1"
   ]
  },
  {
   "cell_type": "code",
   "execution_count": 77,
   "metadata": {},
   "outputs": [
    {
     "data": {
      "text/plain": [
       "<matplotlib.text.Text at 0x1271daeb8>"
      ]
     },
     "execution_count": 77,
     "metadata": {},
     "output_type": "execute_result"
    },
    {
     "data": {
      "image/png": "[encoded data removed]",
      "text/plain": [
       "<matplotlib.figure.Figure at 0x1277c2b00>"
      ]
     },
     "metadata": {},
     "output_type": "display_data"
    }
   ],
   "source": [
    "plot = ct1.iloc[0:8,0:2].plot(kind='bar')\n",
    "plt.ylabel('Pessoas com Internet (em%)')"
   ]
  },
  {
   "cell_type": "code",
   "execution_count": 12,
   "metadata": {},
   "outputs": [
    {
     "data": {
      "text/plain": [
       "count     32669.000000\n",
       "mean       3340.177416\n",
       "std        4475.929620\n",
       "min           2.000000\n",
       "25%        1350.000000\n",
       "50%        2100.000000\n",
       "75%        3700.000000\n",
       "max      180678.000000\n",
       "Name: mes_domici, dtype: float64"
      ]
     },
     "execution_count": 12,
     "metadata": {},
     "output_type": "execute_result"
    }
   ],
   "source": [
    "renda = df13[((df13.UF==31)|(df13.UF==32)|(df13.UF==33)|(df13.UF==35))&(df13.mes_domici>0.1)&(df13.mes_domici!=999999999999)].mes_domici  \n",
    "\n",
    "renda.describe()"
   ]
  },
  {
   "cell_type": "code",
   "execution_count": 78,
   "metadata": {
    "scrolled": true
   },
   "outputs": [
    {
     "data": {
      "text/plain": [
       "<matplotlib.text.Text at 0x127cd0390>"
      ]
     },
     "execution_count": 78,
     "metadata": {},
     "output_type": "execute_result"
    },
    {
     "data": {
      "image/png": "[encoded data removed]",
      "text/plain": [
       "<matplotlib.figure.Figure at 0x127cbbd68>"
      ]
     },
     "metadata": {},
     "output_type": "display_data"
    }
   ],
   "source": [
    "# Histograma\n",
    "faixa = arange(0,30000,350)\n",
    "faixa2 = (100,300,500,650,1000,1100,1250,1500,1700,2000,2250,2500,2700,2800,2900,3000,3400,3700,4000,4500,5000,5800,6400,7000,7800,8500,9200,10000,11000,11700,12500,15000,17500,20000)\n",
    "plot = renda.plot.hist(bins=faixa2,title='HISTOGRAMA - SALÁRIO',figsize=(5, 5), normed=1, alpha=1)\n",
    "plt.ylabel('Pessoas (em %)')\n",
    "plt.xlabel('renda (em reais)')"
   ]
  },
  {
   "cell_type": "code",
   "execution_count": 152,
   "metadata": {
    "collapsed": true
   },
   "outputs": [],
   "source": [
    "\n",
    "#tipo = df13[((df13.UF==31)|(df13.UF==32)|(df13.UF==33)|(df13.UF==35))&(df13.mes_domici>0.1)&(df13.mes_domici!=999999999999)].internet_dom\n",
    "#aparelho_1 = df13[((df13.UF==31)|(df13.UF==32)|(df13.UF==33)|(df13.UF==35))&(df13.mes_domici>0.1)&(df13.mes_domici!=999999999999)]._3G_4G\n",
    "#aparelho_2= df13[((df13.UF==31)|(df13.UF==32)|(df13.UF==33)|(df13.UF==35))&(df13.mes_domici>0.1)&(df13.mes_domici!=999999999999)].discada\n",
    "#aparelho_3 = df13[((df13.UF==31)|(df13.UF==32)|(df13.UF==33)|(df13.UF==35))&(df13.mes_domici>0.1)&(df13.mes_domici!=999999999999)].banda_larga\n",
    "#ct2 = pd.crosstab(aparelho_1,tipo, rownames=['aparelho_1'], colnames=['tipo'])\n",
    "#ct3 = pd.crosstab(aparelho_2,tipo, rownames=['aparelho_2'], colnames=['tipo'])\n",
    "#ct4 = pd.crosstab(aparelho_3,tipo, rownames=['aparelho_3'], colnames=['tipo'])\n",
    "\n",
    "\n"
   ]
  },
  {
   "cell_type": "code",
   "execution_count": 153,
   "metadata": {
    "collapsed": true
   },
   "outputs": [],
   "source": [
    "#ct2"
   ]
  },
  {
   "cell_type": "code",
   "execution_count": 154,
   "metadata": {
    "collapsed": true
   },
   "outputs": [],
   "source": [
    "#ct3"
   ]
  },
  {
   "cell_type": "code",
   "execution_count": 155,
   "metadata": {
    "collapsed": true
   },
   "outputs": [],
   "source": [
    "#ct4"
   ]
  },
  {
   "cell_type": "markdown",
   "metadata": {},
   "source": [
    "## ## Conclusão "
   ]
  },
  {
   "cell_type": "markdown",
   "metadata": {
    "collapsed": true
   },
   "source": [
    "Descreva aqui suas conclusões!"
   ]
  },
  {
   "cell_type": "markdown",
   "metadata": {},
   "source": [
    "Como o acesso, da população do Sudeste, a internet, varia conforme sua renda?"
   ]
  },
  {
   "cell_type": "markdown",
   "metadata": {},
   "source": [
    "Por qual ferramenta a população do Sudeste acessa a internet?"
   ]
  },
  {
   "cell_type": "markdown",
   "metadata": {},
   "source": [
    "Qual o tipo de internet a populacão usa?"
   ]
  },
  {
   "cell_type": "code",
   "execution_count": null,
   "metadata": {
    "collapsed": true
   },
   "outputs": [],
   "source": [
    "df13.to_csv(\"Data_13.csv\",sep=';')"
   ]
  }
 ],
 "metadata": {
  "anaconda-cloud": {},
  "kernelspec": {
   "display_name": "Python 3",
   "language": "python",
   "name": "python3"
  },
  "language_info": {
   "codemirror_mode": {
    "name": "ipython",
    "version": 3
   },
   "file_extension": ".py",
   "mimetype": "text/x-python",
   "name": "python",
   "nbconvert_exporter": "python",
   "pygments_lexer": "ipython3",
   "version": "3.6.0"
  }
 },
 "nbformat": 4,
 "nbformat_minor": 1
}
