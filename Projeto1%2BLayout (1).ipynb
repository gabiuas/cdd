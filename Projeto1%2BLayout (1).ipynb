{
 "cells": [
  {
   "cell_type": "markdown",
   "metadata": {},
   "source": [
    "___\n",
    "# Ciência dos Dados - PROJETO 1"
   ]
  },
  {
   "cell_type": "markdown",
   "metadata": {},
   "source": [
    "Gabriel Scodiero"
   ]
  },
  {
   "cell_type": "markdown",
   "metadata": {},
   "source": [
    "## TÍTULO DO SEU PROJETO"
   ]
  },
  {
   "cell_type": "markdown",
   "metadata": {},
   "source": [
    "___\n",
    "## Introdução\n",
    "\n",
    "Descreva aqui o que pretende analisar!\n",
    "\n",
    "Capriche no português!! \n",
    "Se quiser pode utilizar pesquisas semelhantes publicadas em sites confiáveis!!\n"
   ]
  },
  {
   "cell_type": "markdown",
   "metadata": {},
   "source": [
    "___\n",
    "## Análise e Resultados"
   ]
  },
  {
   "cell_type": "code",
   "execution_count": 1,
   "metadata": {
    "collapsed": true
   },
   "outputs": [],
   "source": [
    "%matplotlib inline\n",
    "import pandas as pd\n",
    "import matplotlib.pyplot as plt\n",
    "import numpy as np\n",
    "import os\n",
    "from numpy import arange"
   ]
  },
  {
   "cell_type": "code",
   "execution_count": 111,
   "metadata": {},
   "outputs": [
    {
     "name": "stdout",
     "output_type": "stream",
     "text": [
      "Esperamos trabalhar no diretório\n",
      "/Users/gabiuas\n"
     ]
    }
   ],
   "source": [
    "print('Esperamos trabalhar no diretório')\n",
    "print(os.getcwd())"
   ]
  },
  {
   "cell_type": "code",
   "execution_count": 112,
   "metadata": {
    "collapsed": true
   },
   "outputs": [],
   "source": [
    "#Se usar o arquivo descompactado\n",
    "#pd.read_csv('DOM2015.csv',sep=',')\n",
    "\n",
    "#Se usar o arquivo compactado como está no dropbox púbico\n",
    "#pd.read_csv('DOM2015csv.zip', compression='zip', header=0, sep=',', quotechar='\"')"
   ]
  },
  {
   "cell_type": "code",
   "execution_count": 113,
   "metadata": {
    "collapsed": true
   },
   "outputs": [],
   "source": [
    "dados13 = pd.read_csv('DOM2013csv.zip', compression='zip', header=0, sep=',', quotechar='\"')\n",
    "dados14 = pd.read_csv('DOM2014csv.zip', compression='zip', header=0, sep=',', quotechar='\"')\n",
    "dados15 = pd.read_csv('DOM2015csv.zip', compression='zip', header=0, sep=',', quotechar='\"')\n",
    "\n",
    "DS=pd.read_csv('Data_13S.csv',sep=';')\n",
    "DN=pd.read_csv('Data_13N.csv',sep=';')"
   ]
  },
  {
   "cell_type": "code",
   "execution_count": 114,
   "metadata": {},
   "outputs": [],
   "source": [
    "#DS.sort_values(by=\"internet_dom\").dropna().head(10)"
   ]
  },
  {
   "cell_type": "code",
   "execution_count": 115,
   "metadata": {},
   "outputs": [],
   "source": [
    "#DN.sort_values(by=\"internet_dom\").head(10)"
   ]
  },
  {
   "cell_type": "code",
   "execution_count": 132,
   "metadata": {},
   "outputs": [
    {
     "data": {
      "text/html": [
       "<div>\n",
       "<table border=\"1\" class=\"dataframe\">\n",
       "  <thead>\n",
       "    <tr style=\"text-align: right;\">\n",
       "      <th></th>\n",
       "      <th>UF</th>\n",
       "      <th>internet_dom</th>\n",
       "      <th>micro</th>\n",
       "      <th>celular</th>\n",
       "      <th>tablet</th>\n",
       "      <th>tv</th>\n",
       "      <th>outro</th>\n",
       "      <th>mes_domici</th>\n",
       "      <th>dom_per_capt</th>\n",
       "    </tr>\n",
       "  </thead>\n",
       "  <tbody>\n",
       "    <tr>\n",
       "      <th>66368</th>\n",
       "      <td>31</td>\n",
       "      <td>Sim</td>\n",
       "      <td>Sim</td>\n",
       "      <td>Sim</td>\n",
       "      <td>Não</td>\n",
       "      <td>Não</td>\n",
       "      <td>Não</td>\n",
       "      <td>30.0</td>\n",
       "      <td>Zero - 1/4</td>\n",
       "    </tr>\n",
       "    <tr>\n",
       "      <th>80927</th>\n",
       "      <td>33</td>\n",
       "      <td>Sim</td>\n",
       "      <td>Sim</td>\n",
       "      <td>Não</td>\n",
       "      <td>Não</td>\n",
       "      <td>Não</td>\n",
       "      <td>Não</td>\n",
       "      <td>33.0</td>\n",
       "      <td>Zero - 1/4</td>\n",
       "    </tr>\n",
       "    <tr>\n",
       "      <th>77159</th>\n",
       "      <td>31</td>\n",
       "      <td>Sim</td>\n",
       "      <td>Sim</td>\n",
       "      <td>Sim</td>\n",
       "      <td>Não</td>\n",
       "      <td>Não</td>\n",
       "      <td>Não</td>\n",
       "      <td>34.0</td>\n",
       "      <td>Zero - 1/4</td>\n",
       "    </tr>\n",
       "    <tr>\n",
       "      <th>75948</th>\n",
       "      <td>31</td>\n",
       "      <td>Sim</td>\n",
       "      <td>Sim</td>\n",
       "      <td>Não</td>\n",
       "      <td>Não</td>\n",
       "      <td>Não</td>\n",
       "      <td>Não</td>\n",
       "      <td>38.0</td>\n",
       "      <td>Zero - 1/4</td>\n",
       "    </tr>\n",
       "    <tr>\n",
       "      <th>104737</th>\n",
       "      <td>35</td>\n",
       "      <td>Sim</td>\n",
       "      <td>Sim</td>\n",
       "      <td>Não</td>\n",
       "      <td>Não</td>\n",
       "      <td>Não</td>\n",
       "      <td>Não</td>\n",
       "      <td>38.0</td>\n",
       "      <td>Zero - 1/4</td>\n",
       "    </tr>\n",
       "  </tbody>\n",
       "</table>\n",
       "</div>"
      ],
      "text/plain": [
       "        UF internet_dom micro celular tablet   tv outro  mes_domici  \\\n",
       "66368   31          Sim   Sim     Sim    Não  Não   Não        30.0   \n",
       "80927   33          Sim   Sim     Não    Não  Não   Não        33.0   \n",
       "77159   31          Sim   Sim     Sim    Não  Não   Não        34.0   \n",
       "75948   31          Sim   Sim     Não    Não  Não   Não        38.0   \n",
       "104737  35          Sim   Sim     Não    Não  Não   Não        38.0   \n",
       "\n",
       "       dom_per_capt  \n",
       "66368    Zero - 1/4  \n",
       "80927    Zero - 1/4  \n",
       "77159    Zero - 1/4  \n",
       "75948    Zero - 1/4  \n",
       "104737   Zero - 1/4  "
      ]
     },
     "execution_count": 132,
     "metadata": {},
     "output_type": "execute_result"
    }
   ],
   "source": [
    "df13= pd.DataFrame({\"UF\":dados13.UF})\n",
    "\n",
    "\n",
    "#COLUNAS\n",
    "df13['internet_dom']=dados13.V02322\n",
    "df13['micro']=dados13.V02323\n",
    "df13['celular']=dados13.V02324\n",
    "df13['tablet']=dados13.V02325\n",
    "df13['tv']=dados13.V02326\n",
    "df13['outro']=dados13.V02327\n",
    "df13['mes_domici']=dados13.V4614\n",
    "df13['dom_per_capt']=dados13.V4622\n",
    "\n",
    "\n",
    "#RESPOSTAS\n",
    "df13.internet_dom = df13.internet_dom.astype('category')\n",
    "df13.internet_dom.cat.categories = ('Sim','Não')\n",
    "\n",
    "df13.micro = df13.micro.astype('category')\n",
    "df13.micro.cat.categories = ('Sim','Não')\n",
    "\n",
    "df13.celular = df13.celular.astype('category')\n",
    "df13.celular.cat.categories = ('Sim','Não')\n",
    "\n",
    "df13.tablet = df13.tablet.astype('category')\n",
    "df13.tablet.cat.categories = ('Sim','Não')\n",
    "\n",
    "df13.tv = df13.tv.astype('category')\n",
    "df13.tv.cat.categories = ('Sim','Não')\n",
    "\n",
    "df13.outro = df13.outro.astype('category')\n",
    "df13.outro.cat.categories = ('Sim','Não')\n",
    "\n",
    "df13.dom_per_capt = df13.dom_per_capt.astype('category')\n",
    "df13.dom_per_capt.cat.categories = ('Zero','Zero - 1/4','1/4 - 1/2','1/2 - 1','1 - 2','2 - 3','3 - 5','5+','SD')\n",
    "\n",
    "\n",
    "df13[((df13.UF==31)|(df13.UF==32)|(df13.UF==33)|(df13.UF==35))&(df13.mes_domici>0.1)&(df13.mes_domici!=999999999999)].sort_values(by=\"mes_domici\").dropna().head()\n",
    "\n",
    "\n",
    "\n"
   ]
  },
  {
   "cell_type": "code",
   "execution_count": 117,
   "metadata": {},
   "outputs": [],
   "source": [
    "inter = df13[((df13.UF==31)|(df13.UF==32)|(df13.UF==33)|(df13.UF==35))&(df13.mes_domici>0.1)&(df13.mes_domici!=999999999999)].internet_dom\n",
    "domsal = df13[((df13.UF==31)|(df13.UF==32)|(df13.UF==33)|(df13.UF==35))&(df13.mes_domici>0.1)&(df13.mes_domici!=999999999999)].dom_per_capt\n",
    "\n",
    "\n",
    "\n",
    "#print('Frequências relativas Internet:')\n",
    "#ut1 = (inter.value_counts(normalize=True)*100).round(decimals=1).reindex(['Sim', 'Não'])\n",
    "#print(ut1,'\\n')\n",
    "\n",
    "#print('Frequências relativas dinheiro:')\n",
    "#ut2 = (domsal.value_counts(normalize=True)*100).round(decimals=1).reindex(['Zero','Zero - 1/4','1/4 - 1/2','1/2 - 1','1 - 2','2 - 3','3 - 5','5+','SD'])\n",
    "#print(ut2,'\\n')\n"
   ]
  },
  {
   "cell_type": "code",
   "execution_count": 118,
   "metadata": {},
   "outputs": [],
   "source": [
    "#plot = ut1.plot(kind='bar',title='INTERNET',figsize=(6, 6),color=('g','r'))\n",
    "#plt.ylabel('Pessoas(em%)')\n",
    "#plt.xlabel('Internet no domicílio')"
   ]
  },
  {
   "cell_type": "code",
   "execution_count": 133,
   "metadata": {},
   "outputs": [],
   "source": [
    "#plot = ut2.plot(kind='bar',title='SALÁRIO',figsize=(6, 6),color=('b'))\n",
    "#plt.ylabel('Porcentagem Pessoas (em%)')\n",
    "#plt.xlabel('Parcela Salário Mínimo')"
   ]
  },
  {
   "cell_type": "code",
   "execution_count": 134,
   "metadata": {},
   "outputs": [],
   "source": [
    "inter = df13[((df13.UF==31)|(df13.UF==32)|(df13.UF==33)|(df13.UF==35))&(df13.mes_domici>0.1)&(df13.mes_domici!=999999999999)].internet_dom\n",
    "sal = df13[((df13.UF==31)|(df13.UF==32)|(df13.UF==33)|(df13.UF==35))&(df13.mes_domici>0.1)&(df13.mes_domici!=999999999999)].dom_per_capt\n",
    "\n",
    "\n",
    "#print('Tabela Cruzada por total GERAL (em %):')\n",
    "ct1=(pd.crosstab(sal,inter,margins=True,rownames=['Salário'], colnames=[\"Internet\"], normalize='all')*100).round(decimals=1)\n",
    "#ct1"
   ]
  },
  {
   "cell_type": "code",
   "execution_count": 135,
   "metadata": {},
   "outputs": [
    {
     "data": {
      "text/plain": [
       "<matplotlib.text.Text at 0x11250e668>"
      ]
     },
     "execution_count": 135,
     "metadata": {},
     "output_type": "execute_result"
    },
    {
     "data": {
      "image/png": "[encoded data removed]",
      "text/plain": [
       "<matplotlib.figure.Figure at 0x117a44a90>"
      ]
     },
     "metadata": {},
     "output_type": "display_data"
    }
   ],
   "source": [
    "plot = ct1.iloc[0:8,0:2].plot(kind='bar')\n",
    "plt.ylabel('Pessoas com Internet (em%)')"
   ]
  },
  {
   "cell_type": "code",
   "execution_count": 136,
   "metadata": {},
   "outputs": [],
   "source": [
    "renda = df13[((df13.UF==31)|(df13.UF==32)|(df13.UF==33)|(df13.UF==35))&(df13.mes_domici>0.1)&(df13.mes_domici!=999999999999)].mes_domici  \n",
    "\n",
    "#renda.describe()"
   ]
  },
  {
   "cell_type": "code",
   "execution_count": 137,
   "metadata": {
    "scrolled": true
   },
   "outputs": [
    {
     "data": {
      "text/plain": [
       "<matplotlib.text.Text at 0x111bf8da0>"
      ]
     },
     "execution_count": 137,
     "metadata": {},
     "output_type": "execute_result"
    },
    {
     "data": {
      "image/png": "[encoded data removed]",
      "text/plain": [
       "<matplotlib.figure.Figure at 0x116478828>"
      ]
     },
     "metadata": {},
     "output_type": "display_data"
    }
   ],
   "source": [
    "# Histograma\n",
    "faixa = arange(0,30000,350)\n",
    "faixa2 = (100,300,500,650,1000,1100,1250,1500,1700,2000,2250,2500,2700,2800,2900,3000,3400,3700,4000,4500,5000,5800,6400,7000,7800,8500,9200,10000,11000,11700,12500,15000,17500,20000)\n",
    "plot = renda.plot.hist(bins=faixa2,title='HISTOGRAMA - SALÁRIO',figsize=(4, 4), normed=1, alpha=1)\n",
    "plt.ylabel('Pessoas (em %)')\n",
    "plt.xlabel('renda (em reais)')\n",
    "#Curva assimetrica a direita"
   ]
  },
  {
   "cell_type": "code",
   "execution_count": 144,
   "metadata": {},
   "outputs": [
    {
     "data": {
      "text/html": [
       "<div>\n",
       "<table border=\"1\" class=\"dataframe\">\n",
       "  <thead>\n",
       "    <tr style=\"text-align: right;\">\n",
       "      <th></th>\n",
       "      <th>UF</th>\n",
       "      <th>internet_dom</th>\n",
       "      <th>micro</th>\n",
       "      <th>celular</th>\n",
       "      <th>tablet</th>\n",
       "      <th>tv</th>\n",
       "      <th>outro</th>\n",
       "      <th>mes_domici</th>\n",
       "      <th>dom_per_capt</th>\n",
       "    </tr>\n",
       "  </thead>\n",
       "  <tbody>\n",
       "    <tr>\n",
       "      <th>66368</th>\n",
       "      <td>31</td>\n",
       "      <td>Sim</td>\n",
       "      <td>Sim</td>\n",
       "      <td>Sim</td>\n",
       "      <td>Não</td>\n",
       "      <td>Não</td>\n",
       "      <td>Não</td>\n",
       "      <td>30.0</td>\n",
       "      <td>Zero - 1/4</td>\n",
       "    </tr>\n",
       "    <tr>\n",
       "      <th>80927</th>\n",
       "      <td>33</td>\n",
       "      <td>Sim</td>\n",
       "      <td>Sim</td>\n",
       "      <td>Não</td>\n",
       "      <td>Não</td>\n",
       "      <td>Não</td>\n",
       "      <td>Não</td>\n",
       "      <td>33.0</td>\n",
       "      <td>Zero - 1/4</td>\n",
       "    </tr>\n",
       "    <tr>\n",
       "      <th>77159</th>\n",
       "      <td>31</td>\n",
       "      <td>Sim</td>\n",
       "      <td>Sim</td>\n",
       "      <td>Sim</td>\n",
       "      <td>Não</td>\n",
       "      <td>Não</td>\n",
       "      <td>Não</td>\n",
       "      <td>34.0</td>\n",
       "      <td>Zero - 1/4</td>\n",
       "    </tr>\n",
       "    <tr>\n",
       "      <th>75948</th>\n",
       "      <td>31</td>\n",
       "      <td>Sim</td>\n",
       "      <td>Sim</td>\n",
       "      <td>Não</td>\n",
       "      <td>Não</td>\n",
       "      <td>Não</td>\n",
       "      <td>Não</td>\n",
       "      <td>38.0</td>\n",
       "      <td>Zero - 1/4</td>\n",
       "    </tr>\n",
       "    <tr>\n",
       "      <th>104737</th>\n",
       "      <td>35</td>\n",
       "      <td>Sim</td>\n",
       "      <td>Sim</td>\n",
       "      <td>Não</td>\n",
       "      <td>Não</td>\n",
       "      <td>Não</td>\n",
       "      <td>Não</td>\n",
       "      <td>38.0</td>\n",
       "      <td>Zero - 1/4</td>\n",
       "    </tr>\n",
       "  </tbody>\n",
       "</table>\n",
       "</div>"
      ],
      "text/plain": [
       "        UF internet_dom micro celular tablet   tv outro  mes_domici  \\\n",
       "66368   31          Sim   Sim     Sim    Não  Não   Não        30.0   \n",
       "80927   33          Sim   Sim     Não    Não  Não   Não        33.0   \n",
       "77159   31          Sim   Sim     Sim    Não  Não   Não        34.0   \n",
       "75948   31          Sim   Sim     Não    Não  Não   Não        38.0   \n",
       "104737  35          Sim   Sim     Não    Não  Não   Não        38.0   \n",
       "\n",
       "       dom_per_capt  \n",
       "66368    Zero - 1/4  \n",
       "80927    Zero - 1/4  \n",
       "77159    Zero - 1/4  \n",
       "75948    Zero - 1/4  \n",
       "104737   Zero - 1/4  "
      ]
     },
     "execution_count": 144,
     "metadata": {},
     "output_type": "execute_result"
    }
   ],
   "source": [
    "df13[((df13.UF==31)|(df13.UF==32)|(df13.UF==33)|(df13.UF==35))&(df13.mes_domici>0.1)&(df13.mes_domici!=999999999999)].sort_values(by=\"mes_domici\").dropna().head()\n"
   ]
  },
  {
   "cell_type": "code",
   "execution_count": 156,
   "metadata": {},
   "outputs": [
    {
     "data": {
      "image/png": "[encoded data removed]",
      "text/plain": [
       "<matplotlib.figure.Figure at 0x117cab208>"
      ]
     },
     "metadata": {},
     "output_type": "display_data"
    },
    {
     "data": {
      "image/png": "[encoded data removed]",
      "text/plain": [
       "<matplotlib.figure.Figure at 0x113ba3da0>"
      ]
     },
     "metadata": {},
     "output_type": "display_data"
    },
    {
     "data": {
      "image/png": "[encoded data removed]",
      "text/plain": [
       "<matplotlib.figure.Figure at 0x1168bcda0>"
      ]
     },
     "metadata": {},
     "output_type": "display_data"
    },
    {
     "data": {
      "image/png": "[encoded data removed]",
      "text/plain": [
       "<matplotlib.figure.Figure at 0x114006588>"
      ]
     },
     "metadata": {},
     "output_type": "display_data"
    }
   ],
   "source": [
    "sal = df13[((df13.UF==31)|(df13.UF==32)|(df13.UF==33)|(df13.UF==35))&(df13.mes_domici>0.1)&(df13.mes_domici!=999999999999)].dom_per_capt\n",
    "\n",
    "micro = df13[((df13.UF==31)|(df13.UF==32)|(df13.UF==33)|(df13.UF==35))&(df13.mes_domici>0.1)&(df13.mes_domici!=999999999999)].micro\n",
    "celular = df13[((df13.UF==31)|(df13.UF==32)|(df13.UF==33)|(df13.UF==35))&(df13.mes_domici>0.1)&(df13.mes_domici!=999999999999)].celular\n",
    "tablet = df13[((df13.UF==31)|(df13.UF==32)|(df13.UF==33)|(df13.UF==35))&(df13.mes_domici>0.1)&(df13.mes_domici!=999999999999)].tablet\n",
    "tv = df13[((df13.UF==31)|(df13.UF==32)|(df13.UF==33)|(df13.UF==35))&(df13.mes_domici>0.1)&(df13.mes_domici!=999999999999)].tv\n",
    "outro = df13[((df13.UF==31)|(df13.UF==32)|(df13.UF==33)|(df13.UF==35))&(df13.mes_domici>0.1)&(df13.mes_domici!=999999999999)].outro\n",
    "\n",
    "\n",
    "\n",
    "ct2=(pd.crosstab(sal,micro,margins=True,rownames=['Salário'], colnames=[\"Micro-computador\"], normalize='all')*100).round(decimals=1)\n",
    "ct3=(pd.crosstab(sal,celular,margins=True,rownames=['Salário'], colnames=[\"Celular\"], normalize='all')*100).round(decimals=1)\n",
    "ct4=(pd.crosstab(sal,tablet,margins=True,rownames=['Salário'], colnames=[\"Tablet\"], normalize='all')*100).round(decimals=1)\n",
    "ct5=(pd.crosstab(sal,tv,margins=True,rownames=['Salário'], colnames=[\"TV\"], normalize='all')*100).round(decimals=1)\n",
    "\n",
    "plot = ct2.iloc[0:8,0:2].plot(kind='bar', stacked=True,title='Micro-computador')\n",
    "plot = ct3.iloc[0:8,0:2].plot(kind='bar', stacked=True,title='Celular')\n",
    "plot = ct4.iloc[0:8,0:2].plot(kind='bar', stacked=True,title='Tablet')\n",
    "plot = ct5.iloc[0:8,0:2].plot(kind='bar', stacked=True,title='TV')\n",
    "\n"
   ]
  },
  {
   "cell_type": "markdown",
   "metadata": {},
   "source": [
    "## ## Conclusão "
   ]
  },
  {
   "cell_type": "markdown",
   "metadata": {
    "collapsed": true
   },
   "source": [
    "Descreva aqui suas conclusões!"
   ]
  },
  {
   "cell_type": "markdown",
   "metadata": {},
   "source": [
    "Como o acesso, da população do Sudeste, a internet, varia conforme sua renda?"
   ]
  },
  {
   "cell_type": "markdown",
   "metadata": {},
   "source": [
    "Por qual ferramenta a população do Sudeste acessa a internet?"
   ]
  },
  {
   "cell_type": "markdown",
   "metadata": {},
   "source": [
    "Qual o tipo de internet a populacão usa?"
   ]
  },
  {
   "cell_type": "code",
   "execution_count": 142,
   "metadata": {},
   "outputs": [
    {
     "data": {
      "image/png": "[encoded data removed]",
      "text/plain": [
       "<matplotlib.figure.Figure at 0x113ad6da0>"
      ]
     },
     "metadata": {},
     "output_type": "display_data"
    }
   ],
   "source": [
    "ds=df13[((df13.UF==31)|(df13.UF==32)|(df13.UF==33)|(df13.UF==35))&(df13.mes_domici>0.1)&(df13.mes_domici!=999999999999)&(df13.internet_dom==\"Sim\")]    \n",
    "dn=df13[((df13.UF==31)|(df13.UF==32)|(df13.UF==33)|(df13.UF==35))&(df13.mes_domici>0.1)&(df13.mes_domici!=999999999999)&(df13.internet_dom==\"Não\")]\n",
    "\n",
    "\n",
    "plot = ds.plot(kind='box',title='Expectativa de vida de países do mundo')#, color='red')\n",
    "\n",
    "\n",
    "\n",
    "\n",
    "\n"
   ]
  },
  {
   "cell_type": "code",
   "execution_count": 143,
   "metadata": {},
   "outputs": [
    {
     "data": {
      "image/png": "[encoded data removed]",
      "text/plain": [
       "<matplotlib.figure.Figure at 0x112981710>"
      ]
     },
     "metadata": {},
     "output_type": "display_data"
    }
   ],
   "source": [
    "plot = dn.plot(kind='box',title='Expectativa de vida de países do mundo')#, color='red')\n"
   ]
  },
  {
   "cell_type": "code",
   "execution_count": 108,
   "metadata": {},
   "outputs": [],
   "source": [
    "ds.to_csv(\"Data_13S.csv\",sep=';')"
   ]
  },
  {
   "cell_type": "code",
   "execution_count": 109,
   "metadata": {
    "collapsed": true
   },
   "outputs": [],
   "source": [
    "dn.to_csv(\"Data_13N.csv\",sep=';')"
   ]
  },
  {
   "cell_type": "code",
   "execution_count": 110,
   "metadata": {
    "collapsed": true
   },
   "outputs": [],
   "source": [
    "df13.to_csv(\"Data_13.csv\",sep=';')"
   ]
  },
  {
   "cell_type": "code",
   "execution_count": null,
   "metadata": {
    "collapsed": true
   },
   "outputs": [],
   "source": []
  }
 ],
 "metadata": {
  "anaconda-cloud": {},
  "kernelspec": {
   "display_name": "Python 3",
   "language": "python",
   "name": "python3"
  },
  "language_info": {
   "codemirror_mode": {
    "name": "ipython",
    "version": 3
   },
   "file_extension": ".py",
   "mimetype": "text/x-python",
   "name": "python",
   "nbconvert_exporter": "python",
   "pygments_lexer": "ipython3",
   "version": "3.6.0"
  }
 },
 "nbformat": 4,
 "nbformat_minor": 1
}
